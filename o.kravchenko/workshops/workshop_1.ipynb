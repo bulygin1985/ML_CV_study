{
  "cells": [
    {
      "cell_type": "markdown",
      "metadata": {
        "id": "JbmO7FVJ5MlF"
      },
      "source": [
        "# **1**"
      ]
    },
    {
      "cell_type": "code",
      "execution_count": null,
      "metadata": {
        "id": "JGgbStrboOeQ"
      },
      "outputs": [],
      "source": [
        "import numpy as np\n",
        "from typing import Iterable, TypeVar"
      ]
    },
    {
      "cell_type": "code",
      "execution_count": null,
      "metadata": {
        "colab": {
          "base_uri": "https://localhost:8080/"
        },
        "id": "pSZVRIsuzlDG",
        "outputId": "1c9a26c1-9037-4dd8-aae8-6d65d022eb1d"
      },
      "outputs": [],
      "source": [
        "array = np.random.choice(5,10)\n",
        "array"
      ]
    },
    {
      "cell_type": "code",
      "execution_count": null,
      "metadata": {
        "id": "6eQmTn2m15kq"
      },
      "outputs": [],
      "source": [
        "T = TypeVar(\"T\")"
      ]
    },
    {
      "cell_type": "code",
      "execution_count": null,
      "metadata": {
        "id": "mQPNv1IV09aI"
      },
      "outputs": [],
      "source": [
        "def get_unique_values(data: Iterable[T]) -> Iterable[T]:\n",
        "  return set(data)"
      ]
    },
    {
      "cell_type": "code",
      "execution_count": null,
      "metadata": {
        "colab": {
          "base_uri": "https://localhost:8080/"
        },
        "id": "k1botIAp0H9Y",
        "outputId": "3d02e1f8-def7-497a-8280-66f7e27e53f2"
      },
      "outputs": [],
      "source": [
        "unique_values = get_unique_values(array)\n",
        "unique_values"
      ]
    },
    {
      "cell_type": "markdown",
      "metadata": {
        "id": "Tz7pfj2m5Jku"
      },
      "source": [
        "# **2**"
      ]
    },
    {
      "cell_type": "code",
      "execution_count": null,
      "metadata": {
        "id": "qo7SP5ur5L5f"
      },
      "outputs": [],
      "source": [
        "import numpy as np"
      ]
    },
    {
      "cell_type": "code",
      "execution_count": null,
      "metadata": {
        "id": "uR8P9ES25QoR"
      },
      "outputs": [],
      "source": [
        "class MatrixMult():\n",
        "  def __init__(self, width: int, height: int):\n",
        "    self.matrix = np.random.rand(width, height)\n",
        "\n",
        "  def forward(self, X):\n",
        "    return self.matrix.dot(X)\n",
        "\n",
        "  def __repr__(self):\n",
        "    return str(self.matrix)"
      ]
    },
    {
      "cell_type": "code",
      "execution_count": null,
      "metadata": {
        "id": "eOxc3cHG6t7C"
      },
      "outputs": [],
      "source": [
        "m = MatrixMult(3,4)\n",
        "vector = np.random.rand(4)\n",
        "result = m.forward(vector)"
      ]
    },
    {
      "cell_type": "markdown",
      "metadata": {
        "id": "O8SfdAw3AKEM"
      },
      "source": [
        "# **3**"
      ]
    },
    {
      "cell_type": "code",
      "execution_count": null,
      "metadata": {
        "id": "y-rUuMDAALK0"
      },
      "outputs": [],
      "source": [
        "def test_forward_success_shape():\n",
        "  matrix = MatrixMult(3,4)\n",
        "  vector = np.random.rand(4)\n",
        "  expected = (3,)\n",
        "\n",
        "  actual = matrix.forward(vector)\n",
        "\n",
        "  assert actual.shape == expected, \"wrong shape\"\n",
        "\n",
        "test_forward_success_shape()"
      ]
    },
    {
      "cell_type": "code",
      "execution_count": null,
      "metadata": {
        "id": "8BMt1AaoBmP1"
      },
      "outputs": [],
      "source": [
        "def test_forward_success_values():\n",
        "  matrix = MatrixMult(3,3)\n",
        "  vector = np.random.rand(3)\n",
        "  expected = vector.T.dot(matrix.matrix.T)\n",
        "\n",
        "  actual = matrix.forward(vector)\n",
        "  # (AB)T = BT * AT\n",
        "  assert all(actual.T == expected), \"wrong matrix values\"\n",
        "\n",
        "test_forward_success_values()\n"
      ]
    }
  ],
  "metadata": {
    "accelerator": "GPU",
    "colab": {
      "collapsed_sections": [
        "JbmO7FVJ5MlF"
      ],
      "gpuType": "T4",
      "provenance": []
    },
    "kernelspec": {
      "display_name": "Python 3",
      "name": "python3"
    },
    "language_info": {
      "codemirror_mode": {
        "name": "ipython",
        "version": 3
      },
      "file_extension": ".py",
      "mimetype": "text/x-python",
      "name": "python",
      "nbconvert_exporter": "python",
      "pygments_lexer": "ipython3",
      "version": "3.10.8"
    }
  },
  "nbformat": 4,
  "nbformat_minor": 0
}
